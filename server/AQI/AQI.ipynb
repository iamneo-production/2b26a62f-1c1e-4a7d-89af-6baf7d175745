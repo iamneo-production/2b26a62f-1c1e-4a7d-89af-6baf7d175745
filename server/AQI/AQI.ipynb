{
  "cells": [
    {
      "cell_type": "code",
      "execution_count": 1,
      "metadata": {
        "id": "b2y2m_bOlPG7"
      },
      "outputs": [],
      "source": [
        "import pandas as pd\n",
        "import os\n",
        "from tqdm import trange\n",
        "import numpy as np\n",
        "from sklearn.utils import shuffle"
      ]
    },
    {
      "cell_type": "code",
      "execution_count": 2,
      "metadata": {
        "id": "7omL5aBhlPG9"
      },
      "outputs": [],
      "source": [
        "li=os.listdir()\n",
        "li=sorted(li)[1:-1]"
      ]
    },
    {
      "cell_type": "code",
      "source": [
        "li"
      ],
      "metadata": {
        "colab": {
          "base_uri": "https://localhost:8080/"
        },
        "id": "7GPz2m1EmXKL",
        "outputId": "663a54b7-61d2-4265-acd3-ca7035cfab9a"
      },
      "execution_count": 3,
      "outputs": [
        {
          "output_type": "execute_result",
          "data": {
            "text/plain": [
              "['1.csv',\n",
              " '2.csv',\n",
              " '3.csv',\n",
              " '4.csv',\n",
              " '5.csv',\n",
              " '6.csv',\n",
              " '7.csv',\n",
              " '8.csv',\n",
              " '90.csv',\n",
              " '91.csv',\n",
              " '92.csv',\n",
              " '93.csv',\n",
              " '94.csv']"
            ]
          },
          "metadata": {},
          "execution_count": 3
        }
      ]
    },
    {
      "cell_type": "code",
      "execution_count": 4,
      "metadata": {
        "id": "LwkAU16ylPG_"
      },
      "outputs": [],
      "source": [
        "lis_data={}\n",
        "columns=[]\n",
        "for i in li:\n",
        "    df=pd.read_csv('./'+i,header=None)\n",
        "    column=df.iloc(0)\n",
        "    lis_data[int(i[:-4])]=df.drop([0],axis=1)[1:]\n",
        "for i in column[0]:\n",
        "    columns.append(i)"
      ]
    },
    {
      "cell_type": "code",
      "execution_count": 5,
      "metadata": {
        "id": "MXt7X_FplPHA"
      },
      "outputs": [],
      "source": [
        "columns\n",
        "columns_num=[1,2,3,4]"
      ]
    },
    {
      "cell_type": "code",
      "execution_count": 6,
      "metadata": {
        "colab": {
          "base_uri": "https://localhost:8080/",
          "height": 419
        },
        "id": "brK7Wi8_lPHB",
        "outputId": "f9b661d6-b7e1-417c-ab47-1ab28dd14128"
      },
      "outputs": [
        {
          "output_type": "execute_result",
          "data": {
            "text/plain": [
              "          1       2      3      4\n",
              "1     56.32  115.46  43.99  15.59\n",
              "2     64.01  119.89  33.24   9.19\n",
              "3      73.7  140.86   33.8   9.87\n",
              "4      76.6  155.77  35.73  14.89\n",
              "5     74.92  159.18   37.6  14.38\n",
              "...     ...     ...    ...    ...\n",
              "1884  58.94  125.91   4.09  18.47\n",
              "1885  51.69  109.53   4.58  11.71\n",
              "1886  56.56  123.68    5.5   10.2\n",
              "1887  65.25  135.06    7.1     12\n",
              "1888  75.41  159.06   8.15  19.41\n",
              "\n",
              "[1888 rows x 4 columns]"
            ],
            "text/html": [
              "\n",
              "  <div id=\"df-bfc57031-5e5f-4ef1-a3bc-01235df006aa\">\n",
              "    <div class=\"colab-df-container\">\n",
              "      <div>\n",
              "<style scoped>\n",
              "    .dataframe tbody tr th:only-of-type {\n",
              "        vertical-align: middle;\n",
              "    }\n",
              "\n",
              "    .dataframe tbody tr th {\n",
              "        vertical-align: top;\n",
              "    }\n",
              "\n",
              "    .dataframe thead th {\n",
              "        text-align: right;\n",
              "    }\n",
              "</style>\n",
              "<table border=\"1\" class=\"dataframe\">\n",
              "  <thead>\n",
              "    <tr style=\"text-align: right;\">\n",
              "      <th></th>\n",
              "      <th>1</th>\n",
              "      <th>2</th>\n",
              "      <th>3</th>\n",
              "      <th>4</th>\n",
              "    </tr>\n",
              "  </thead>\n",
              "  <tbody>\n",
              "    <tr>\n",
              "      <th>1</th>\n",
              "      <td>56.32</td>\n",
              "      <td>115.46</td>\n",
              "      <td>43.99</td>\n",
              "      <td>15.59</td>\n",
              "    </tr>\n",
              "    <tr>\n",
              "      <th>2</th>\n",
              "      <td>64.01</td>\n",
              "      <td>119.89</td>\n",
              "      <td>33.24</td>\n",
              "      <td>9.19</td>\n",
              "    </tr>\n",
              "    <tr>\n",
              "      <th>3</th>\n",
              "      <td>73.7</td>\n",
              "      <td>140.86</td>\n",
              "      <td>33.8</td>\n",
              "      <td>9.87</td>\n",
              "    </tr>\n",
              "    <tr>\n",
              "      <th>4</th>\n",
              "      <td>76.6</td>\n",
              "      <td>155.77</td>\n",
              "      <td>35.73</td>\n",
              "      <td>14.89</td>\n",
              "    </tr>\n",
              "    <tr>\n",
              "      <th>5</th>\n",
              "      <td>74.92</td>\n",
              "      <td>159.18</td>\n",
              "      <td>37.6</td>\n",
              "      <td>14.38</td>\n",
              "    </tr>\n",
              "    <tr>\n",
              "      <th>...</th>\n",
              "      <td>...</td>\n",
              "      <td>...</td>\n",
              "      <td>...</td>\n",
              "      <td>...</td>\n",
              "    </tr>\n",
              "    <tr>\n",
              "      <th>1884</th>\n",
              "      <td>58.94</td>\n",
              "      <td>125.91</td>\n",
              "      <td>4.09</td>\n",
              "      <td>18.47</td>\n",
              "    </tr>\n",
              "    <tr>\n",
              "      <th>1885</th>\n",
              "      <td>51.69</td>\n",
              "      <td>109.53</td>\n",
              "      <td>4.58</td>\n",
              "      <td>11.71</td>\n",
              "    </tr>\n",
              "    <tr>\n",
              "      <th>1886</th>\n",
              "      <td>56.56</td>\n",
              "      <td>123.68</td>\n",
              "      <td>5.5</td>\n",
              "      <td>10.2</td>\n",
              "    </tr>\n",
              "    <tr>\n",
              "      <th>1887</th>\n",
              "      <td>65.25</td>\n",
              "      <td>135.06</td>\n",
              "      <td>7.1</td>\n",
              "      <td>12</td>\n",
              "    </tr>\n",
              "    <tr>\n",
              "      <th>1888</th>\n",
              "      <td>75.41</td>\n",
              "      <td>159.06</td>\n",
              "      <td>8.15</td>\n",
              "      <td>19.41</td>\n",
              "    </tr>\n",
              "  </tbody>\n",
              "</table>\n",
              "<p>1888 rows × 4 columns</p>\n",
              "</div>\n",
              "      <button class=\"colab-df-convert\" onclick=\"convertToInteractive('df-bfc57031-5e5f-4ef1-a3bc-01235df006aa')\"\n",
              "              title=\"Convert this dataframe to an interactive table.\"\n",
              "              style=\"display:none;\">\n",
              "        \n",
              "  <svg xmlns=\"http://www.w3.org/2000/svg\" height=\"24px\"viewBox=\"0 0 24 24\"\n",
              "       width=\"24px\">\n",
              "    <path d=\"M0 0h24v24H0V0z\" fill=\"none\"/>\n",
              "    <path d=\"M18.56 5.44l.94 2.06.94-2.06 2.06-.94-2.06-.94-.94-2.06-.94 2.06-2.06.94zm-11 1L8.5 8.5l.94-2.06 2.06-.94-2.06-.94L8.5 2.5l-.94 2.06-2.06.94zm10 10l.94 2.06.94-2.06 2.06-.94-2.06-.94-.94-2.06-.94 2.06-2.06.94z\"/><path d=\"M17.41 7.96l-1.37-1.37c-.4-.4-.92-.59-1.43-.59-.52 0-1.04.2-1.43.59L10.3 9.45l-7.72 7.72c-.78.78-.78 2.05 0 2.83L4 21.41c.39.39.9.59 1.41.59.51 0 1.02-.2 1.41-.59l7.78-7.78 2.81-2.81c.8-.78.8-2.07 0-2.86zM5.41 20L4 18.59l7.72-7.72 1.47 1.35L5.41 20z\"/>\n",
              "  </svg>\n",
              "      </button>\n",
              "      \n",
              "  <style>\n",
              "    .colab-df-container {\n",
              "      display:flex;\n",
              "      flex-wrap:wrap;\n",
              "      gap: 12px;\n",
              "    }\n",
              "\n",
              "    .colab-df-convert {\n",
              "      background-color: #E8F0FE;\n",
              "      border: none;\n",
              "      border-radius: 50%;\n",
              "      cursor: pointer;\n",
              "      display: none;\n",
              "      fill: #1967D2;\n",
              "      height: 32px;\n",
              "      padding: 0 0 0 0;\n",
              "      width: 32px;\n",
              "    }\n",
              "\n",
              "    .colab-df-convert:hover {\n",
              "      background-color: #E2EBFA;\n",
              "      box-shadow: 0px 1px 2px rgba(60, 64, 67, 0.3), 0px 1px 3px 1px rgba(60, 64, 67, 0.15);\n",
              "      fill: #174EA6;\n",
              "    }\n",
              "\n",
              "    [theme=dark] .colab-df-convert {\n",
              "      background-color: #3B4455;\n",
              "      fill: #D2E3FC;\n",
              "    }\n",
              "\n",
              "    [theme=dark] .colab-df-convert:hover {\n",
              "      background-color: #434B5C;\n",
              "      box-shadow: 0px 1px 3px 1px rgba(0, 0, 0, 0.15);\n",
              "      filter: drop-shadow(0px 1px 2px rgba(0, 0, 0, 0.3));\n",
              "      fill: #FFFFFF;\n",
              "    }\n",
              "  </style>\n",
              "\n",
              "      <script>\n",
              "        const buttonEl =\n",
              "          document.querySelector('#df-bfc57031-5e5f-4ef1-a3bc-01235df006aa button.colab-df-convert');\n",
              "        buttonEl.style.display =\n",
              "          google.colab.kernel.accessAllowed ? 'block' : 'none';\n",
              "\n",
              "        async function convertToInteractive(key) {\n",
              "          const element = document.querySelector('#df-bfc57031-5e5f-4ef1-a3bc-01235df006aa');\n",
              "          const dataTable =\n",
              "            await google.colab.kernel.invokeFunction('convertToInteractive',\n",
              "                                                     [key], {});\n",
              "          if (!dataTable) return;\n",
              "\n",
              "          const docLinkHtml = 'Like what you see? Visit the ' +\n",
              "            '<a target=\"_blank\" href=https://colab.research.google.com/notebooks/data_table.ipynb>data table notebook</a>'\n",
              "            + ' to learn more about interactive tables.';\n",
              "          element.innerHTML = '';\n",
              "          dataTable['output_type'] = 'display_data';\n",
              "          await google.colab.output.renderOutput(dataTable, element);\n",
              "          const docLink = document.createElement('div');\n",
              "          docLink.innerHTML = docLinkHtml;\n",
              "          element.appendChild(docLink);\n",
              "        }\n",
              "      </script>\n",
              "    </div>\n",
              "  </div>\n",
              "  "
            ]
          },
          "metadata": {},
          "execution_count": 6
        }
      ],
      "source": [
        "lis_data[1]"
      ]
    },
    {
      "cell_type": "code",
      "execution_count": 7,
      "metadata": {
        "colab": {
          "base_uri": "https://localhost:8080/"
        },
        "id": "IeesSDR8lPHB",
        "outputId": "ffd83773-e602-4056-e33e-8dd514e4ba57"
      },
      "outputs": [
        {
          "output_type": "stream",
          "name": "stdout",
          "text": [
            "1   1   27\n",
            "1   2   31\n",
            "1   3   27\n",
            "1   4   27\n",
            "2   1   29\n",
            "2   2   24\n",
            "2   3   19\n",
            "2   4   18\n",
            "3   1   1631\n",
            "3   2   1631\n",
            "3   3   1631\n",
            "3   4   1631\n",
            "4   1   10\n",
            "4   2   10\n",
            "4   3   11\n",
            "4   4   12\n",
            "5   1   45\n",
            "5   2   43\n",
            "5   3   94\n",
            "5   4   39\n",
            "6   1   1612\n",
            "6   2   1612\n",
            "6   3   1612\n",
            "6   4   1613\n",
            "7   1   1635\n",
            "7   2   1631\n",
            "7   3   1629\n",
            "7   4   1630\n"
          ]
        }
      ],
      "source": [
        "for i in li[:7]:\n",
        "    for c in columns_num:\n",
        "        print(i[:-4],' ',c,' ',(lis_data[int(i[:-4])][c]=='None').sum())\n"
      ]
    },
    {
      "cell_type": "markdown",
      "metadata": {
        "id": "5quFWFBQlPHC"
      },
      "source": [
        "### Planning to remove the data with more none values and replacing the remaining with the average value of a row a above and below\n",
        "\n",
        "#### datas with more none values : 3,6,7,8,90,91,92,93"
      ]
    },
    {
      "cell_type": "code",
      "execution_count": 8,
      "metadata": {
        "id": "DOqcKhgvlPHD"
      },
      "outputs": [],
      "source": [
        "lis_data[3]=lis_data[3][1606:]\n",
        "lis_data[6]=lis_data[6][1606:]\n",
        "lis_data[7]=lis_data[7][1613:]\n",
        "lis_data[8]=lis_data[8][1606:]\n",
        "lis_data[90]=lis_data[90][1606:]\n",
        "lis_data[91]=lis_data[91][1606:]\n",
        "lis_data[92]=lis_data[92][1613:]\n",
        "lis_data[93]=lis_data[93][1606:]"
      ]
    },
    {
      "cell_type": "markdown",
      "metadata": {
        "id": "oddoXNRflPHE"
      },
      "source": [
        "### Checking again if there are more none values in the processed data and proceeding to fill them with averages  "
      ]
    },
    {
      "cell_type": "code",
      "execution_count": 9,
      "metadata": {
        "colab": {
          "base_uri": "https://localhost:8080/"
        },
        "id": "89d20iUQlPHE",
        "outputId": "255b556c-3d07-4df5-fbfa-c3cce72ba9ac"
      },
      "outputs": [
        {
          "output_type": "stream",
          "name": "stdout",
          "text": [
            "1   1   27\n",
            "1   2   31\n",
            "1   3   27\n",
            "1   4   27\n",
            "2   1   29\n",
            "2   2   24\n",
            "2   3   19\n",
            "2   4   18\n",
            "3   1   25\n",
            "3   2   25\n",
            "3   3   25\n",
            "3   4   25\n",
            "4   1   10\n",
            "4   2   10\n",
            "4   3   11\n",
            "4   4   12\n",
            "5   1   45\n",
            "5   2   43\n",
            "5   3   94\n",
            "5   4   39\n",
            "6   1   6\n",
            "6   2   6\n",
            "6   3   6\n",
            "6   4   7\n",
            "7   1   22\n",
            "7   2   18\n",
            "7   3   16\n",
            "7   4   17\n"
          ]
        }
      ],
      "source": [
        "for i in li[:7]:\n",
        "    for c in columns_num:\n",
        "        print(i[:-4],' ',c,' ',(lis_data[int(i[:-4])][c]=='None').sum())\n"
      ]
    },
    {
      "cell_type": "code",
      "execution_count": 10,
      "metadata": {
        "colab": {
          "base_uri": "https://localhost:8080/"
        },
        "id": "PpPLxve9lPHF",
        "outputId": "4aa77101-9028-4d4c-d660-392fa82bed1f"
      },
      "outputs": [
        {
          "output_type": "stream",
          "name": "stdout",
          "text": [
            "8   1   22\n",
            "8   2   21\n",
            "8   3   19\n",
            "8   4   19\n",
            "90   1   2\n",
            "90   2   2\n",
            "90   3   2\n",
            "90   4   3\n",
            "91   1   2\n",
            "91   2   1\n",
            "91   3   1\n",
            "91   4   2\n",
            "92   1   30\n",
            "92   2   22\n",
            "92   3   21\n",
            "92   4   21\n",
            "93   1   12\n",
            "93   2   13\n",
            "93   3   10\n",
            "93   4   10\n",
            "94   1   127\n",
            "94   2   195\n",
            "94   3   86\n",
            "94   4   68\n"
          ]
        }
      ],
      "source": [
        "for i in li[7:]:\n",
        "    for c in columns_num:\n",
        "        print(i[:-4],' ',c,' ',(lis_data[int(i[:-4])][c]=='None').sum())\n"
      ]
    },
    {
      "cell_type": "code",
      "execution_count": 11,
      "metadata": {
        "id": "QJlmPGZNlPHG"
      },
      "outputs": [],
      "source": [
        "len_data=0\n",
        "for i in lis_data:\n",
        "    len_data+=len(lis_data[i])"
      ]
    },
    {
      "cell_type": "code",
      "execution_count": 12,
      "metadata": {
        "colab": {
          "base_uri": "https://localhost:8080/"
        },
        "id": "svIsz9qelPHH",
        "outputId": "bf161e98-ddb8-4ea5-e1e6-f3c9f0ea2ebf"
      },
      "outputs": [
        {
          "output_type": "execute_result",
          "data": {
            "text/plain": [
              "10230"
            ]
          },
          "metadata": {},
          "execution_count": 12
        }
      ],
      "source": [
        "\n",
        "len_data"
      ]
    },
    {
      "cell_type": "code",
      "execution_count": 13,
      "metadata": {
        "id": "MJPQGByvlPHH"
      },
      "outputs": [],
      "source": [
        "for i in lis_data:\n",
        "    for j in columns_num:\n",
        "        lis_data[i][j]=pd.to_numeric(lis_data[i][j],errors='coerce')"
      ]
    },
    {
      "cell_type": "code",
      "execution_count": 14,
      "metadata": {
        "id": "QxjZ6JGIlPHI"
      },
      "outputs": [],
      "source": [
        "for i in lis_data:\n",
        "    for j in columns_num:\n",
        "        mean=lis_data[i][j].mean()\n",
        "        lis_data[i][j].fillna(value=mean, inplace=True)\n"
      ]
    },
    {
      "cell_type": "code",
      "execution_count": 15,
      "metadata": {
        "id": "I1S1CASNlPHJ"
      },
      "outputs": [],
      "source": [
        "x_batches=[]\n",
        "y_batches=[]\n",
        "for i in lis_data:\n",
        "    for j in range(len(lis_data[i])-25):\n",
        "        x_batches.append(lis_data[i][j:j+25].to_numpy().astype(np.float64))\n",
        "        y_batches.append(lis_data[i][j+25:j+26].to_numpy().astype(np.float64))\n",
        "x_batches=np.array(x_batches)\n",
        "y_batches=np.array(y_batches)        \n",
        "  "
      ]
    },
    {
      "cell_type": "code",
      "source": [
        "x_batches_us,y_batches_us=x_batches,y_batches"
      ],
      "metadata": {
        "id": "6KxgeKk2lvYH"
      },
      "execution_count": 16,
      "outputs": []
    },
    {
      "cell_type": "code",
      "source": [
        "x_batches,y_batches=shuffle(x_batches,y_batches)"
      ],
      "metadata": {
        "id": "LHPgVlHOEJxH"
      },
      "execution_count": 17,
      "outputs": []
    },
    {
      "cell_type": "code",
      "execution_count": 18,
      "metadata": {
        "colab": {
          "base_uri": "https://localhost:8080/"
        },
        "id": "S4-kC9CplPHK",
        "outputId": "df0cf3d9-68af-4cd8-e45a-ad5f2fe2645a"
      },
      "outputs": [
        {
          "output_type": "execute_result",
          "data": {
            "text/plain": [
              "(array([[ 58.71, 143.04,  52.77,   3.32],\n",
              "        [ 77.13, 166.51,  58.04,   2.54],\n",
              "        [ 71.39, 163.49,  60.72,   3.99],\n",
              "        [ 68.53, 146.9 ,  55.54,   3.55],\n",
              "        [ 72.06, 165.29,  74.99,   5.01],\n",
              "        [ 75.25, 167.15,  60.43,   2.51],\n",
              "        [ 74.92, 173.27,  69.06,   4.88],\n",
              "        [ 74.92, 164.36,  56.5 ,   4.72],\n",
              "        [ 70.22, 145.24,  37.54,   2.77],\n",
              "        [ 71.95, 157.28,  53.18,   3.97],\n",
              "        [ 58.07, 156.95,  70.99,   5.18],\n",
              "        [ 65.16, 165.59,  73.16,   3.81],\n",
              "        [ 62.69, 173.98,  68.  ,   4.59],\n",
              "        [ 64.28, 175.75,  60.86,   4.32],\n",
              "        [ 69.38, 168.6 ,  57.79,   3.75],\n",
              "        [ 74.29, 173.2 ,  55.7 ,   3.07],\n",
              "        [ 62.26, 134.81,  43.05,   2.13],\n",
              "        [ 52.85, 135.12,  39.73,   1.23],\n",
              "        [ 57.16, 140.58,  50.45,   3.16],\n",
              "        [ 57.16, 130.09,  53.51,   2.17],\n",
              "        [ 43.31, 116.75,  41.66,   2.07],\n",
              "        [ 28.66,  77.58,  39.79,   0.8 ],\n",
              "        [ 43.54, 117.78,  50.15,   2.07],\n",
              "        [ 36.12,  93.85,  42.53,   2.47],\n",
              "        [ 26.05,  68.47,  49.59,   3.61]]),\n",
              " array([[29.34, 67.86, 47.4 ,  2.97]]))"
            ]
          },
          "metadata": {},
          "execution_count": 18
        }
      ],
      "source": [
        "x_batches[0],y_batches[0]"
      ]
    },
    {
      "cell_type": "code",
      "source": [
        "# !pip install tensorflow==2.10.1"
      ],
      "metadata": {
        "id": "V1A0zmqYsqEb"
      },
      "execution_count": 18,
      "outputs": []
    },
    {
      "cell_type": "code",
      "execution_count": 19,
      "metadata": {
        "colab": {
          "base_uri": "https://localhost:8080/"
        },
        "id": "afarSCfplPHK",
        "outputId": "bc04117c-949f-4d3d-bef9-b7fe71c07e13"
      },
      "outputs": [
        {
          "output_type": "execute_result",
          "data": {
            "text/plain": [
              "9905"
            ]
          },
          "metadata": {},
          "execution_count": 19
        }
      ],
      "source": [
        "len(x_batches)"
      ]
    },
    {
      "cell_type": "code",
      "execution_count": 21,
      "metadata": {
        "colab": {
          "base_uri": "https://localhost:8080/"
        },
        "id": "fva01QKalPHL",
        "outputId": "1da91d65-ca63-4c33-9a20-39358ceb0fc1"
      },
      "outputs": [
        {
          "output_type": "stream",
          "name": "stdout",
          "text": [
            "Model: \"model\"\n",
            "_________________________________________________________________\n",
            " Layer (type)                Output Shape              Param #   \n",
            "=================================================================\n",
            " input_2 (InputLayer)        [(None, 100)]             0         \n",
            "                                                                 \n",
            " token_and_position_embeddin  (None, 100, 16)          17600     \n",
            " g_1 (TokenAndPositionEmbedd                                     \n",
            " ing)                                                            \n",
            "                                                                 \n",
            " transformer_block (Transfor  (None, 100, 16)          14976     \n",
            " merBlock)                                                       \n",
            "                                                                 \n",
            " global_average_pooling1d (G  (None, 16)               0         \n",
            " lobalAveragePooling1D)                                          \n",
            "                                                                 \n",
            " dense_6 (Dense)             (None, 256)               4352      \n",
            "                                                                 \n",
            " dense_7 (Dense)             (None, 256)               65792     \n",
            "                                                                 \n",
            " dense_8 (Dense)             (None, 128)               32896     \n",
            "                                                                 \n",
            " dense_9 (Dense)             (None, 4)                 516       \n",
            "                                                                 \n",
            "=================================================================\n",
            "Total params: 136,132\n",
            "Trainable params: 136,132\n",
            "Non-trainable params: 0\n",
            "_________________________________________________________________\n",
            "None\n"
          ]
        }
      ],
      "source": [
        "from tensorflow.keras import layers\n",
        "import tensorflow as tf\n",
        "from tensorflow import keras\n",
        "# @tf.function\n",
        "class TransformerBlock(layers.Layer):\n",
        "    def __init__(self, embed_dim, num_heads, ff_dim, rate=0.1):\n",
        "        super().__init__()\n",
        "        self.att = layers.MultiHeadAttention(num_heads=num_heads, key_dim=embed_dim)\n",
        "        self.ffn = keras.Sequential(\n",
        "            [layers.Dense(ff_dim, activation=\"relu\"), layers.Dense(embed_dim),]\n",
        "        )\n",
        "        self.layernorm1 = layers.LayerNormalization(epsilon=1e-6)\n",
        "        self.layernorm2 = layers.LayerNormalization(epsilon=1e-6)\n",
        "        self.dropout1 = layers.Dropout(rate)\n",
        "        self.dropout2 = layers.Dropout(rate)\n",
        "\n",
        "    def call(self, inputs, training):\n",
        "        attn_output = self.att(inputs, inputs)\n",
        "        attn_output = self.dropout1(attn_output, training=training)\n",
        "        out1 = self.layernorm1(inputs + attn_output)\n",
        "        ffn_output = self.ffn(out1)\n",
        "        ffn_output = self.dropout2(ffn_output, training=training)\n",
        "        return self.layernorm2(out1 + ffn_output)\n",
        "    \n",
        "class TokenAndPositionEmbedding(layers.Layer):\n",
        "    def __init__(self, maxlen,vocab_size, embed_dim):\n",
        "        super().__init__()\n",
        "        self.token_emb = layers.Embedding(input_dim=vocab_size, output_dim=embed_dim)\n",
        "        self.pos_emb = layers.Embedding(input_dim=maxlen, output_dim=embed_dim)\n",
        "        \n",
        "\n",
        "    def call(self, x):\n",
        "        maxlen = tf.shape(x)[-1]\n",
        "        positions = tf.range(start=0, limit=maxlen, delta=1)\n",
        "        positions = self.pos_emb(positions)\n",
        "        x = self.token_emb(x)\n",
        "        return x + positions\n",
        "\n",
        "vocab_size = 1000  \n",
        "maxlen = 100\n",
        "embed_dim = 16\n",
        "num_heads = 6\n",
        "ff_dim = 256\n",
        "\n",
        "inputs = layers.Input(shape=(maxlen,))\n",
        "embedding_layer = TokenAndPositionEmbedding(maxlen, vocab_size, embed_dim)\n",
        "x = embedding_layer(inputs)\n",
        "transformer_block1 = TransformerBlock(embed_dim, num_heads, ff_dim)\n",
        "transformer_block2 = TransformerBlock(embed_dim, num_heads, ff_dim)\n",
        "transformer_block3 = TransformerBlock(embed_dim, num_heads, ff_dim)\n",
        "\n",
        "x = transformer_block1(x)\n",
        "# x = transformer_block2(x)\n",
        "# x = transformer_block3(x)\n",
        "\n",
        "x = layers.GlobalAveragePooling1D()(x)\n",
        "# x = layers.Dense(512, activation=\"relu\")(x)\n",
        "# x = layers.Dense(256, activation=\"relu\")(x)\n",
        "x = layers.Dense(256, activation=\"relu\")(x)\n",
        "x = layers.Dense(256, activation=\"relu\")(x)\n",
        "x = layers.Dense(128, activation=\"relu\")(x)\n",
        "outputs = layers.Dense(4)(x)\n",
        "\n",
        "model = keras.Model(inputs=inputs, outputs=outputs)\n",
        "\n",
        "\n",
        "model.compile(optimizer=\"adam\", loss=\"mae\", metrics=['mse'])\n",
        "\n",
        "\n",
        "print(model.summary())"
      ]
    },
    {
      "cell_type": "code",
      "execution_count": 22,
      "metadata": {
        "id": "6ZP0TvXllPHL"
      },
      "outputs": [],
      "source": [
        "x_train=x_batches[:int((0.8)*len(x_batches))]\n",
        "y_train=y_batches[:int((0.8)*len(y_batches))]\n",
        "x_test=x_batches[int((0.8)*len(x_batches)):]\n",
        "y_test=y_batches[int((0.8)*len(y_batches)):]"
      ]
    },
    {
      "cell_type": "code",
      "source": [
        "x_train=np.reshape(x_train,(-1,100))\n",
        "x_test=np.reshape(x_test,(-1,100))"
      ],
      "metadata": {
        "id": "uOzCk3PQz_DZ"
      },
      "execution_count": 23,
      "outputs": []
    },
    {
      "cell_type": "code",
      "source": [
        "y_train=np.reshape(y_train,(-1,4))\n",
        "y_test=np.reshape(y_test,(-1,4))"
      ],
      "metadata": {
        "id": "qddSUx0C0hrf"
      },
      "execution_count": 24,
      "outputs": []
    },
    {
      "cell_type": "code",
      "source": [
        "history = model.fit(\n",
        "    x_train, y_train, batch_size=64, epochs=20\n",
        ")\n",
        "\n",
        "# history = model.fit(x_train, y_train, epochs=20, batch_size=64,\n",
        "#           use_multiprocessing=True, \n",
        "#           **{'function': tf.function(experimental_relax_shapes=True)})\n"
      ],
      "metadata": {
        "colab": {
          "base_uri": "https://localhost:8080/"
        },
        "id": "FZ6IrLJTxzb4",
        "outputId": "e5672b80-5419-47cd-b0bb-07679b86ea2d"
      },
      "execution_count": 28,
      "outputs": [
        {
          "output_type": "stream",
          "name": "stdout",
          "text": [
            "Epoch 1/5\n",
            "124/124 [==============================] - 1s 11ms/step - loss: 7.7197 - mse: 157.6508\n",
            "Epoch 2/5\n",
            "124/124 [==============================] - 1s 10ms/step - loss: 7.5883 - mse: 151.1805\n",
            "Epoch 3/5\n",
            "124/124 [==============================] - 1s 10ms/step - loss: 7.4102 - mse: 144.4855\n",
            "Epoch 4/5\n",
            "124/124 [==============================] - 1s 10ms/step - loss: 7.2682 - mse: 139.7278\n",
            "Epoch 5/5\n",
            "124/124 [==============================] - 1s 10ms/step - loss: 7.2092 - mse: 137.4872\n"
          ]
        }
      ]
    },
    {
      "cell_type": "code",
      "source": [
        "pred=model.predict(x_test)"
      ],
      "metadata": {
        "colab": {
          "base_uri": "https://localhost:8080/"
        },
        "id": "EASwY1P1zPIV",
        "outputId": "59795f15-a2eb-41e8-8057-8c06fd29d02b"
      },
      "execution_count": 29,
      "outputs": [
        {
          "output_type": "stream",
          "name": "stdout",
          "text": [
            "62/62 [==============================] - 0s 4ms/step\n"
          ]
        }
      ]
    },
    {
      "cell_type": "code",
      "source": [
        "y_test[3],pred[3]"
      ],
      "metadata": {
        "colab": {
          "base_uri": "https://localhost:8080/"
        },
        "id": "vzgCX9OR_C99",
        "outputId": "5b3e024a-bcc5-4ac5-dcc5-7c1dc4afa27c"
      },
      "execution_count": 30,
      "outputs": [
        {
          "output_type": "execute_result",
          "data": {
            "text/plain": [
              "(array([ 65.64, 144.64,  57.33,   3.93]),\n",
              " array([ 45.69523  , 100.53379  ,  50.2126   ,   2.7808444], dtype=float32))"
            ]
          },
          "metadata": {},
          "execution_count": 30
        }
      ]
    },
    {
      "cell_type": "code",
      "source": [
        "from sklearn.metrics import r2_score\n",
        "\n",
        "r2_score(y_test,pred)"
      ],
      "metadata": {
        "colab": {
          "base_uri": "https://localhost:8080/"
        },
        "id": "49BBdi_H_ggM",
        "outputId": "b7fb73cf-a4de-4e95-c578-9ba286264cf1"
      },
      "execution_count": 31,
      "outputs": [
        {
          "output_type": "execute_result",
          "data": {
            "text/plain": [
              "0.7140798536248392"
            ]
          },
          "metadata": {},
          "execution_count": 31
        }
      ]
    },
    {
      "cell_type": "code",
      "source": [
        "def calculate_aqi(pm25, pm10, no2, so2):\n",
        "    # Calculate the AQI for each pollutant\n",
        "    pm25 = pd.to_numeric(pm25)\n",
        "    pm10 = pd.to_numeric(pm10)\n",
        "    # o3 = pd.to_numeric(o3)\n",
        "    no2 = pd.to_numeric(no2)\n",
        "    so2 = pd.to_numeric(so2)\n",
        "    # co = pd.to_numeric(co)\n",
        "    \n",
        "    aqi_pm25 = 0\n",
        "    if 0 <= pm25 <= 12:\n",
        "        aqi_pm25 = 50 * pm25 / 12\n",
        "    elif 12 < pm25 <= 35.4:\n",
        "        aqi_pm25 = 50 + 50 * (pm25 - 12) / 23.4\n",
        "    elif 35.4 < pm25 <= 55.4:\n",
        "        aqi_pm25 = 100 + 50 * (pm25 - 35.4) / 20\n",
        "    elif 55.4 < pm25 <= 150.4:\n",
        "        aqi_pm25 = 150 + 50 * (pm25 - 55.4) / 95\n",
        "    elif 150.4 < pm25 <= 250.4:\n",
        "        aqi_pm25 = 200 + 100 * (pm25 - 150.4) / 100\n",
        "    elif 250.4 < pm25 <= 350.4:\n",
        "        aqi_pm25 = 300 + 100 * (pm25 - 250.4) / 100\n",
        "    elif 350.4 < pm25 <= 500.4:\n",
        "        aqi_pm25 = 400 + 100 * (pm25 - 350.4) / 150\n",
        "\n",
        "    aqi_pm10 = 0\n",
        "    if 0 <= pm10 <= 54:\n",
        "        aqi_pm10 = 50 * pm10 / 54\n",
        "    elif 54 < pm10 <= 154:\n",
        "        aqi_pm10 = 50 + 50 * (pm10 - 54) / 100\n",
        "    elif 154 < pm10 <= 254:\n",
        "        aqi_pm10 = 100 + 50 * (pm10 - 154) / 100\n",
        "    elif 254 < pm10 <= 354:\n",
        "        aqi_pm10 = 150 + 50 * (pm10 - 254) / 100\n",
        "    elif 354 < pm10 <= 424:\n",
        "        aqi_pm10 = 200 + 100 * (pm10 - 354) / 70\n",
        "    elif 424 < pm10 <= 504:\n",
        "        aqi_pm10 = 300 + 100 * (pm10 - 424) / 80\n",
        "    elif 504 < pm10 <= 604:\n",
        "        aqi_pm10 = 400 + 100 * (pm10 - 504) / 100\n",
        "    aqi_no2 = 0\n",
        "    if 0 <= no2 <= 0.053:\n",
        "        aqi_no2 = 50 * no2 / 0.053\n",
        "    elif 0.053 < no2 <= 0.100:\n",
        "        aqi_no2 = 50 + 50 * (no2 - 0.053) / 0.047\n",
        "    elif 0.100 < no2 <= 0.360:\n",
        "        aqi_no2 = 100 + 50 * (no2 - 0.100) / 0.260\n",
        "    elif 0.360 < no2 <= 0.649:\n",
        "        aqi_no2 = 150 + 50 * (no2 - 0.360) / 0.289\n",
        "    elif 0.649 < no2 <= 1.249:\n",
        "        aqi_no2 = 200 + 100 * (no2 - 0.649) / 0.600\n",
        "    elif 1.249 < no2 <= 1.649:\n",
        "        aqi_no2 = 300 + 100 * (no2 - 1.249) / 0.400\n",
        "    elif 1.649 < no2 <= 2.049:\n",
        "        aqi_no2 = 400 + 100 * (no2 - 1.649) / 0.400\n",
        "\n",
        "    aqi_so2 = 0\n",
        "    if 0 <= so2 <= 0.035:\n",
        "        aqi_so2 = 50 * so2 / 0.035\n",
        "    elif 0.035 < so2 <= 0.075:\n",
        "        aqi_so2 = 50 + 50 * (so2 - 0.035) / 0.040\n",
        "    elif 0.075 < so2 <= 0.185:\n",
        "        aqi_so2 = 100 + 50 * (so2 - 0.075) / 0.110\n",
        "    elif 0.185 < so2 <= 0.304:\n",
        "        aqi_so2 = 150 + 50 * (so2 - 0.185) / 0.119\n",
        "    elif 0.304 < so2 <= 0.604:\n",
        "        aqi_so2 = 200 + 100 * (so2 - 0.304) / 0.300\n",
        "    elif 0.604 < so2 <= 0.804:\n",
        "        aqi_so2 = 300 + 100 * (so2 - 0.604) / 0.200\n",
        "    elif 0.804 < so2 <= 1.004:\n",
        "        aqi_so2 = 400 + 100 * (so2 - 0.804) / 0.200\n",
        "    return int(round(max(aqi_pm25, aqi_pm10, aqi_no2, aqi_so2)))"
      ],
      "metadata": {
        "id": "Z-bVeWlsAnUl"
      },
      "execution_count": 32,
      "outputs": []
    },
    {
      "cell_type": "code",
      "source": [
        "y_test_aqi=np.zeros(len(y_test))\n",
        "pred_aqi=np.zeros(len(pred))\n",
        "for i in range(len(y_test)):\n",
        "    pred_aqi[i]=calculate_aqi(pred[i][0],pred[i][1],pred[i][2],pred[i][3])\n",
        "    y_test_aqi[i]=calculate_aqi(y_test[i][0],y_test[i][1],y_test[i][2],y_test[i][3])"
      ],
      "metadata": {
        "id": "kvC5U4LxBWIY"
      },
      "execution_count": 67,
      "outputs": []
    },
    {
      "cell_type": "code",
      "source": [
        "window=lis_data[1][-25:].to_numpy().astype(np.float32)"
      ],
      "metadata": {
        "id": "Sh2PvXxGBuTN"
      },
      "execution_count": 39,
      "outputs": []
    },
    {
      "cell_type": "code",
      "source": [
        "window"
      ],
      "metadata": {
        "colab": {
          "base_uri": "https://localhost:8080/"
        },
        "id": "pa1_ILXBBvZi",
        "outputId": "ff5cebf0-7352-4e23-e342-1f9c31881a00"
      },
      "execution_count": 44,
      "outputs": [
        {
          "output_type": "execute_result",
          "data": {
            "text/plain": [
              "array([[ 72.07, 139.61,   6.28,  13.09,  66.64, 135.76,   4.49,  12.39,\n",
              "         63.18, 147.16,   7.93,  15.81,  52.28, 139.7 ,  12.12,  37.76,\n",
              "         61.45, 142.04,  15.92,  41.46,  63.79, 148.4 ,   8.9 ,  45.31,\n",
              "         46.08, 131.79,   2.9 ,  14.72,  52.88, 122.9 ,   4.34,  31.61,\n",
              "         55.62, 135.76,   8.66,  30.67,  54.57, 142.16,   7.84,  48.25,\n",
              "         56.  , 144.63,   9.28,  49.62,  61.87, 141.97,  12.13,  27.99,\n",
              "         52.16, 104.07,   3.73,  19.83,  66.79, 150.36,   6.46,  17.02,\n",
              "         65.67, 145.24,   8.11,  12.53,  60.82, 145.05,   5.19,  18.14,\n",
              "         68.97, 154.45,   8.01,  21.93,  73.84, 158.36,   9.08,  35.4 ,\n",
              "         71.7 , 155.82,  10.77,  36.64,  61.49, 130.93,   7.65,  18.78,\n",
              "         58.94, 125.91,   4.09,  18.47,  51.69, 109.53,   4.58,  11.71,\n",
              "         56.56, 123.68,   5.5 ,  10.2 ,  65.25, 135.06,   7.1 ,  12.  ,\n",
              "         75.41, 159.06,   8.15,  19.41]], dtype=float32)"
            ]
          },
          "metadata": {},
          "execution_count": 44
        }
      ]
    },
    {
      "cell_type": "code",
      "source": [
        "window=np.reshape(window,(-1,100))"
      ],
      "metadata": {
        "id": "AMd9i218okug"
      },
      "execution_count": 41,
      "outputs": []
    },
    {
      "cell_type": "code",
      "source": [
        "window.shape"
      ],
      "metadata": {
        "colab": {
          "base_uri": "https://localhost:8080/"
        },
        "id": "-FCr0KpZqTZO",
        "outputId": "62ed88e4-30e4-4be9-e2a0-b4a632d01e5f"
      },
      "execution_count": 45,
      "outputs": [
        {
          "output_type": "execute_result",
          "data": {
            "text/plain": [
              "(1, 100)"
            ]
          },
          "metadata": {},
          "execution_count": 45
        }
      ]
    },
    {
      "cell_type": "code",
      "source": [
        "a=model.predict(window)"
      ],
      "metadata": {
        "colab": {
          "base_uri": "https://localhost:8080/"
        },
        "id": "2PtXK6cTqUmx",
        "outputId": "5e6ecbf2-3d3d-4511-9bf6-e4d9cb1b8438"
      },
      "execution_count": 58,
      "outputs": [
        {
          "output_type": "stream",
          "name": "stdout",
          "text": [
            "1/1 [==============================] - 0s 26ms/step\n"
          ]
        }
      ]
    },
    {
      "cell_type": "code",
      "source": [],
      "metadata": {
        "colab": {
          "base_uri": "https://localhost:8080/"
        },
        "id": "M0CbPlhpshzP",
        "outputId": "fccd43d8-f711-4e85-8856-38c413589bca"
      },
      "execution_count": 59,
      "outputs": [
        {
          "output_type": "execute_result",
          "data": {
            "text/plain": [
              "(1, 4)"
            ]
          },
          "metadata": {},
          "execution_count": 59
        }
      ]
    },
    {
      "cell_type": "code",
      "source": [
        "def aqi_preds(x):\n",
        "    y = []\n",
        "    for i in range(59):\n",
        "        temp = model.predict(x.reshape(1,100), verbose=0)\n",
        "        x=x[:,4:]\n",
        "        x=np.append(x,temp).reshape(1,100)\n",
        "        y.append(temp)\n",
        "    return y"
      ],
      "metadata": {
        "id": "Whx34Pwaqg0z"
      },
      "execution_count": 74,
      "outputs": []
    },
    {
      "cell_type": "code",
      "source": [
        "y=aqi_preds(window)"
      ],
      "metadata": {
        "id": "qZSxhuZprCcB"
      },
      "execution_count": 75,
      "outputs": []
    },
    {
      "cell_type": "code",
      "source": [
        "y_aqi=np.zeros(len(y))\n",
        "# pred_aqi=np.zeros(len(pred))\n",
        "for i in range(len(y)):\n",
        "    a=calculate_aqi(y[i][0][0],y[i][0][1],y[i][0][2],y[i][0][3])\n",
        "    y_aqi[i]=a\n",
        "    # y_test_aqi[i]=calculate_aqi(y_test[i][0],y_test[i][1],y_test[i][2],y_test[i][3])"
      ],
      "metadata": {
        "id": "O_WErOsftSn9"
      },
      "execution_count": 103,
      "outputs": []
    },
    {
      "cell_type": "code",
      "source": [
        "y_aqi"
      ],
      "metadata": {
        "colab": {
          "base_uri": "https://localhost:8080/"
        },
        "id": "SX7IRnoTrI3g",
        "outputId": "804d4a56-62bd-42ab-d721-cbe14044f81b"
      },
      "execution_count": 104,
      "outputs": [
        {
          "output_type": "execute_result",
          "data": {
            "text/plain": [
              "array([158., 155., 151., 151., 149., 153., 151., 148., 149., 151., 152.,\n",
              "       155., 155., 156., 154., 152., 153., 157., 156., 156., 156., 158.,\n",
              "       159., 158., 158., 156., 156., 155., 154., 154., 155., 155., 147.,\n",
              "       138., 138., 136., 150., 151., 151., 149., 142., 141., 140., 140.,\n",
              "       141., 142., 141., 145., 147., 145., 145., 132., 130., 137., 136.,\n",
              "       140., 142., 144., 133.])"
            ]
          },
          "metadata": {},
          "execution_count": 104
        }
      ]
    },
    {
      "cell_type": "code",
      "source": [
        "dum=y_aqi.astype(np.int32)\n"
      ],
      "metadata": {
        "id": "K4nGiQwWrJ3b"
      },
      "execution_count": 105,
      "outputs": []
    },
    {
      "cell_type": "code",
      "source": [
        "mar_avg=np.average(dum[:28])\n",
        "apr_avg=np.average(dum[28:])"
      ],
      "metadata": {
        "id": "4XB4JIcwr5S7"
      },
      "execution_count": 108,
      "outputs": []
    },
    {
      "cell_type": "code",
      "source": [
        "mar_avg,apr_avg"
      ],
      "metadata": {
        "colab": {
          "base_uri": "https://localhost:8080/"
        },
        "id": "E7N_pXV8xmlP",
        "outputId": "d5560f38-600a-4aed-ee6e-bf23bc0343eb"
      },
      "execution_count": 109,
      "outputs": [
        {
          "output_type": "execute_result",
          "data": {
            "text/plain": [
              "(154.21428571428572, 143.25806451612902)"
            ]
          },
          "metadata": {},
          "execution_count": 109
        }
      ]
    },
    {
      "cell_type": "code",
      "source": [
        "dum[:28],dum[28:]"
      ],
      "metadata": {
        "colab": {
          "base_uri": "https://localhost:8080/"
        },
        "id": "f0pcTwxnx4zT",
        "outputId": "479cf271-4675-4f60-c378-46a2246511da"
      },
      "execution_count": 110,
      "outputs": [
        {
          "output_type": "execute_result",
          "data": {
            "text/plain": [
              "(array([158, 155, 151, 151, 149, 153, 151, 148, 149, 151, 152, 155, 155,\n",
              "        156, 154, 152, 153, 157, 156, 156, 156, 158, 159, 158, 158, 156,\n",
              "        156, 155], dtype=int32),\n",
              " array([154, 154, 155, 155, 147, 138, 138, 136, 150, 151, 151, 149, 142,\n",
              "        141, 140, 140, 141, 142, 141, 145, 147, 145, 145, 132, 130, 137,\n",
              "        136, 140, 142, 144, 133], dtype=int32))"
            ]
          },
          "metadata": {},
          "execution_count": 110
        }
      ]
    },
    {
      "cell_type": "code",
      "source": [
        "from sklearn.metrics import mean_absolute_error\n",
        "\n",
        "mean_absolute_error(y_test,pred)"
      ],
      "metadata": {
        "colab": {
          "base_uri": "https://localhost:8080/"
        },
        "id": "kpVPvKjcyPm9",
        "outputId": "9dd0b102-c5de-4b96-8369-5d518951876c"
      },
      "execution_count": 111,
      "outputs": [
        {
          "output_type": "execute_result",
          "data": {
            "text/plain": [
              "7.70735564864528"
            ]
          },
          "metadata": {},
          "execution_count": 111
        }
      ]
    },
    {
      "cell_type": "code",
      "source": [
        "model.save('AQI_Model')"
      ],
      "metadata": {
        "colab": {
          "base_uri": "https://localhost:8080/"
        },
        "id": "yuT5DRi5y9v6",
        "outputId": "4b3f3d64-1559-48e0-e172-f1915a467e1f"
      },
      "execution_count": 112,
      "outputs": [
        {
          "output_type": "stream",
          "name": "stderr",
          "text": [
            "WARNING:absl:Found untraced functions such as embedding_2_layer_call_fn, embedding_2_layer_call_and_return_conditional_losses, embedding_3_layer_call_fn, embedding_3_layer_call_and_return_conditional_losses, multi_head_attention_layer_call_fn while saving (showing 5 of 26). These functions will not be directly callable after loading.\n"
          ]
        }
      ]
    },
    {
      "cell_type": "code",
      "source": [],
      "metadata": {
        "id": "dcELHFpq07uZ"
      },
      "execution_count": null,
      "outputs": []
    },
    {
      "cell_type": "code",
      "source": [],
      "metadata": {
        "colab": {
          "base_uri": "https://localhost:8080/"
        },
        "id": "ZW3Fxnpt1TM-",
        "outputId": "3833796b-78b8-4dea-f924-50b6818ba477"
      },
      "execution_count": 113,
      "outputs": [
        {
          "output_type": "stream",
          "name": "stdout",
          "text": [
            "Mounted at /content/drive\n"
          ]
        }
      ]
    },
    {
      "cell_type": "code",
      "source": [],
      "metadata": {
        "id": "-3UUZ-uR1WGk"
      },
      "execution_count": null,
      "outputs": []
    }
  ],
  "metadata": {
    "kernelspec": {
      "display_name": "tensorflow",
      "language": "python",
      "name": "python3"
    },
    "language_info": {
      "codemirror_mode": {
        "name": "ipython",
        "version": 3
      },
      "file_extension": ".py",
      "mimetype": "text/x-python",
      "name": "python",
      "nbconvert_exporter": "python",
      "pygments_lexer": "ipython3",
      "version": "3.9.0"
    },
    "orig_nbformat": 4,
    "vscode": {
      "interpreter": {
        "hash": "286902879fb5fa188b00b9ebbc26019ea324c6e906e460f49033a9a1c234e5c8"
      }
    },
    "colab": {
      "provenance": []
    },
    "accelerator": "GPU",
    "gpuClass": "standard"
  },
  "nbformat": 4,
  "nbformat_minor": 0
}